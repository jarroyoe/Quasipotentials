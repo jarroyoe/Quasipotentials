{
 "cells": [
  {
   "cell_type": "code",
   "execution_count": 1,
   "metadata": {},
   "outputs": [],
   "source": [
    "# Set up the workspace\n",
    "using SumOfSquares, JuMP, PolyJuMP, DynamicPolynomials, MultivariatePolynomials\n",
    "using Mosek#, CSDP#, SCS\n",
    "using Plots\n",
    "gr()\n",
    "\n",
    "include(\"../src/NormalSoS.jl\")\n",
    "using NormalSoS"
   ]
  },
  {
   "cell_type": "code",
   "execution_count": 4,
   "metadata": {},
   "outputs": [
    {
     "name": "stdout",
     "output_type": "stream",
     "text": [
      "Chosen basis as:\n",
      "DynamicPolynomials.Monomial{true}[x^4, x^3, x^2, x, 1]\n",
      "Problem\n",
      "  Name                   :                 \n",
      "  Objective sense        : min             \n",
      "  Type                   : CONIC (conic optimization problem)\n",
      "  Constraints            : 61              \n",
      "  Cones                  : 0               \n",
      "  Scalar variables       : 6               \n",
      "  Matrix variables       : 2               \n",
      "  Integer variables      : 0               \n",
      "\n",
      "Optimizer started.\n",
      "Presolve started.\n",
      "Linear dependency checker started.\n",
      "Linear dependency checker terminated.\n",
      "Eliminator - tries                  : 0                 time                   : 0.00            \n",
      "Lin. dep.  - tries                  : 1                 time                   : 0.00            \n",
      "Lin. dep.  - number                 : 0               \n",
      "Presolve terminated. Time: 0.00    \n",
      "Problem\n",
      "  Name                   :                 \n",
      "  Objective sense        : min             \n",
      "  Type                   : CONIC (conic optimization problem)\n",
      "  Constraints            : 61              \n",
      "  Cones                  : 0               \n",
      "  Scalar variables       : 6               \n",
      "  Matrix variables       : 2               \n",
      "  Integer variables      : 0               \n",
      "\n",
      "Optimizer  - threads                : 2               \n",
      "Optimizer  - solved problem         : the primal      \n",
      "Optimizer  - Constraints            : 60\n",
      "Optimizer  - Cones                  : 1\n",
      "Optimizer  - Scalar variables       : 7                 conic                  : 6               \n",
      "Optimizer  - Semi-definite variables: 2                 scalarized             : 111             \n",
      "Factor     - setup time             : 0.00              dense det. time        : 0.00            \n",
      "Factor     - ML order time          : 0.00              GP order time          : 0.00            \n",
      "Factor     - nonzeros before factor : 1610              after factor           : 1610            \n",
      "Factor     - dense dim.             : 0                 flops                  : 8.75e+04        \n",
      "ITE PFEAS    DFEAS    GFEAS    PRSTATUS   POBJ              DOBJ              MU       TIME  \n",
      "0   1.0e+00  1.0e+00  1.0e+00  0.00e+00   0.000000000e+00   0.000000000e+00   1.0e+00  0.00  \n",
      "1   2.0e-01  2.0e-01  4.2e-01  5.36e-01   -1.022214553e-01  -1.125288317e-01  2.0e-01  0.00  \n",
      "2   4.2e-02  4.2e-02  1.8e-01  9.10e-01   -1.103478568e-01  -1.087988262e-01  4.2e-02  0.00  \n",
      "3   8.5e-03  8.5e-03  5.9e-02  7.73e-01   -1.865201303e-01  -1.786022985e-01  8.5e-03  0.00  \n",
      "4   1.6e-03  1.6e-03  1.7e-02  5.95e-01   -2.204598497e-01  -2.154441751e-01  1.6e-03  0.01  \n",
      "5   4.6e-04  4.6e-04  7.5e-03  6.05e-01   -2.330165692e-01  -2.304184516e-01  4.6e-04  0.01  \n",
      "6   1.6e-04  1.6e-04  4.1e-03  8.26e-01   -2.377606478e-01  -2.366064631e-01  1.6e-04  0.01  \n",
      "7   8.5e-05  8.5e-05  1.9e-03  3.42e-01   -2.417457313e-01  -2.402392804e-01  8.5e-05  0.01  \n",
      "8   2.0e-05  2.0e-05  9.1e-04  8.39e-01   -2.444607339e-01  -2.440707406e-01  2.0e-05  0.01  \n",
      "9   6.1e-06  6.1e-06  2.9e-04  4.19e-01   -2.466818085e-01  -2.462894599e-01  6.1e-06  0.01  \n",
      "10  1.9e-06  1.9e-06  1.3e-04  7.06e-01   -2.476271846e-01  -2.474475679e-01  1.9e-06  0.01  \n",
      "11  7.4e-07  7.4e-07  4.8e-05  2.76e-01   -2.484482345e-01  -2.482234511e-01  7.4e-07  0.01  \n",
      "12  1.8e-07  1.8e-07  2.1e-05  7.54e-01   -2.489365451e-01  -2.488603592e-01  1.8e-07  0.01  \n",
      "13  5.7e-08  5.7e-08  6.4e-06  3.72e-01   -2.493341197e-01  -2.492556717e-01  5.7e-08  0.01  \n",
      "14  1.8e-08  1.7e-08  2.9e-06  6.88e-01   -2.495183624e-01  -2.494825125e-01  1.7e-08  0.01  \n",
      "15  7.0e-09  6.8e-09  1.0e-06  2.49e-01   -2.496823775e-01  -2.496369410e-01  6.9e-09  0.01  \n",
      "16  2.0e-09  1.7e-09  4.2e-07  7.35e-01   -2.497823770e-01  -2.497668517e-01  1.7e-09  0.01  \n",
      "17  5.9e-10  5.0e-10  1.3e-07  3.63e-01   -2.498638246e-01  -2.498481322e-01  5.1e-10  0.02  \n",
      "18  1.8e-10  1.6e-10  5.7e-08  6.68e-01   -2.499011859e-01  -2.498937957e-01  1.6e-10  0.02  \n",
      "19  7.1e-11  6.3e-11  2.0e-08  2.29e-01   -2.499345723e-01  -2.499251036e-01  6.2e-11  0.02  \n",
      "20  7.5e-11  6.3e-11  2.0e-08  6.94e-01   -2.499346074e-01  -2.499251488e-01  6.2e-11  0.02  \n",
      "21  1.8e-11  6.4e-11  8.3e-09  7.30e-01   -2.499553595e-01  -2.499521755e-01  1.5e-11  0.02  \n",
      "22  5.5e-11  6.4e-11  8.2e-09  3.75e-01   -2.499555064e-01  -2.499523233e-01  1.5e-11  0.03  \n",
      "23  6.4e-11  6.3e-11  8.2e-09  1.17e+00   -2.499555155e-01  -2.499523341e-01  1.5e-11  0.03  \n",
      "24  5.4e-11  6.3e-11  8.2e-09  6.73e-01   -2.499555523e-01  -2.499523737e-01  1.5e-11  0.03  \n",
      "25  6.5e-11  6.3e-11  8.2e-09  4.88e-01   -2.499555885e-01  -2.499524115e-01  1.5e-11  0.04  \n",
      "26  6.5e-11  6.3e-11  8.2e-09  8.15e-01   -2.499555885e-01  -2.499524115e-01  1.5e-11  0.04  \n",
      "Optimizer terminated. Time: 0.04    \n",
      "\n",
      "\n",
      "Interior-point solution summary\n",
      "  Problem status  : PRIMAL_AND_DUAL_FEASIBLE\n",
      "  Solution status : OPTIMAL\n",
      "  Primal.  obj: -2.4995558846e-01   nrm: 2e+03    Viol.  con: 1e-07    var: 0e+00    barvar: 0e+00  \n",
      "  Dual.    obj: -2.4995241151e-01   nrm: 9e+02    Viol.  con: 0e+00    var: 7e-09    barvar: 3e-08  \n",
      "status = :Stall\n",
      "bnd = DynamicPolynomials.Monomial{true}[x^4]\n",
      "getvalue(ϵ) = [0.249956]\n",
      "Problem\n",
      "  Name                   :                 \n",
      "  Objective sense        : min             \n",
      "  Type                   : CONIC (conic optimization problem)\n",
      "  Constraints            : 69              \n",
      "  Cones                  : 0               \n",
      "  Scalar variables       : 7               \n",
      "  Matrix variables       : 3               \n",
      "  Integer variables      : 0               \n",
      "\n",
      "Optimizer started.\n",
      "Presolve started.\n",
      "Linear dependency checker started.\n",
      "Linear dependency checker terminated.\n",
      "Eliminator - tries                  : 0                 time                   : 0.00            \n",
      "Lin. dep.  - tries                  : 1                 time                   : 0.00            \n",
      "Lin. dep.  - number                 : 0               \n",
      "Presolve terminated. Time: 0.00    \n",
      "Problem\n",
      "  Name                   :                 \n",
      "  Objective sense        : min             \n",
      "  Type                   : CONIC (conic optimization problem)\n",
      "  Constraints            : 69              \n",
      "  Cones                  : 0               \n",
      "  Scalar variables       : 7               \n",
      "  Matrix variables       : 3               \n",
      "  Integer variables      : 0               \n",
      "\n",
      "Optimizer  - threads                : 2               \n",
      "Optimizer  - solved problem         : the primal      \n",
      "Optimizer  - Constraints            : 67\n",
      "Optimizer  - Cones                  : 1\n",
      "Optimizer  - Scalar variables       : 8                 conic                  : 6               \n",
      "Optimizer  - Semi-definite variables: 3                 scalarized             : 121             \n",
      "Factor     - setup time             : 0.00              dense det. time        : 0.00            \n",
      "Factor     - ML order time          : 0.00              GP order time          : 0.00            \n",
      "Factor     - nonzeros before factor : 1750              after factor           : 1750            \n",
      "Factor     - dense dim.             : 0                 flops                  : 9.13e+04        \n",
      "ITE PFEAS    DFEAS    GFEAS    PRSTATUS   POBJ              DOBJ              MU       TIME  \n",
      "0   1.0e+00  2.0e+03  1.0e+00  0.00e+00   0.000000000e+00   0.000000000e+00   1.0e+00  0.00  \n",
      "1   2.5e-01  5.0e+02  1.2e-01  -9.99e-01  -3.237149928e+03  -1.073582500e+02  2.5e-01  0.00  \n",
      "2   5.1e-02  1.0e+02  1.2e-02  -9.95e-01  -1.965437719e+04  -7.986925368e+02  5.1e-02  0.00  \n",
      "3   8.6e-03  1.8e+01  8.4e-04  -9.75e-01  -1.125140659e+05  -5.726315272e+03  8.6e-03  0.00  \n",
      "4   2.2e-03  4.6e+00  1.3e-04  -8.50e-01  -3.180248275e+05  -1.881202501e+04  2.2e-03  0.00  \n",
      "5   7.0e-04  1.4e+00  3.8e-05  -4.47e-01  -3.833022713e+05  -3.765968634e+04  7.0e-04  0.00  \n",
      "6   1.8e-04  3.7e-01  1.9e-05  3.54e-01   -1.337042626e+05  -3.886792731e+04  1.8e-04  0.00  \n",
      "7   2.4e-05  4.8e-02  1.4e-05  1.02e+00   -3.110450164e+04  -2.825940617e+04  2.4e-05  0.01  \n",
      "8   5.9e-06  1.2e-02  4.4e-06  1.71e+00   -4.656920772e+03  -2.887184987e+03  5.9e-06  0.01  \n",
      "9   8.9e-07  1.8e-03  2.1e-06  1.15e+00   -7.067731344e+02  -5.217632840e+02  8.9e-07  0.01  \n",
      "10  8.9e-08  1.8e-04  6.9e-07  1.09e+00   -6.865398117e+01  -5.155815794e+01  8.9e-08  0.01  \n",
      "11  5.6e-09  1.1e-05  1.8e-07  1.01e+00   -4.312204716e+00  -3.273700039e+00  5.6e-09  0.01  \n",
      "12  3.3e-10  4.9e-07  3.8e-08  1.01e+00   -1.870330904e-01  -1.477218866e-01  2.4e-10  0.01  \n",
      "13  3.0e-10  4.3e-07  3.6e-08  1.05e+00   -1.640337492e-01  -1.296326156e-01  2.1e-10  0.01  \n",
      "14  3.0e-10  4.3e-07  3.6e-08  1.05e+00   -1.637171210e-01  -1.293834903e-01  2.1e-10  0.02  \n",
      "15  3.0e-10  4.3e-07  3.6e-08  1.05e+00   -1.637171210e-01  -1.293834903e-01  2.1e-10  0.02  \n",
      "Optimizer terminated. Time: 0.02    \n",
      "\n",
      "\n",
      "Interior-point solution summary\n",
      "  Problem status  : PRIMAL_AND_DUAL_FEASIBLE\n",
      "  Solution status : OPTIMAL\n",
      "  Primal.  obj: -1.6371712102e-01   nrm: 3e+04    Viol.  con: 2e-01    var: 0e+00    barvar: 0e+00  \n",
      "  Dual.    obj: -1.2938349034e-01   nrm: 4e+04    Viol.  con: 0e+00    var: 2e-06    barvar: 3e-06  \n",
      "  0.113525 seconds (35.92 k allocations: 2.601 MiB)\n"
     ]
    },
    {
     "name": "stderr",
     "output_type": "stream",
     "text": [
      "\u001b[1m\u001b[33mWARNING: \u001b[39m\u001b[22m\u001b[33mNot solved to optimality, status: Stall\u001b[39m\n",
      "\u001b[1m\u001b[33mWARNING: \u001b[39m\u001b[22m\u001b[33mNot solved to optimality, status: Stall\u001b[39m\n"
     ]
    },
    {
     "data": {
      "text/plain": [
       "4.262620047637489e-6"
      ]
     },
     "execution_count": 4,
     "metadata": {},
     "output_type": "execute_result"
    }
   ],
   "source": [
    "# A 1D system with a quartic potential\n",
    "@polyvar x;    x = [x];\n",
    "F(X::Vector) = [X[1] - X[1]^3 + 0.1];\n",
    "f = F(x);\n",
    "@time U = NormalSoS.normdecomp(f,x, MosekSolver(),1)\n",
    "NormalSoS.checknorm(f,U,x)"
   ]
  },
  {
   "cell_type": "code",
   "execution_count": 38,
   "metadata": {},
   "outputs": [],
   "source": [
    "UxLog = xi->log(Float64(subs(U,x[1]=>xi)));\n",
    "UxLin = xi->Float64(subs(U,x[1]=>xi))-28505.0;\n",
    "Bx = xi->log(0.249956*xi^4+1);\n",
    "xVec = collect(-50:0.1:50);\n",
    "\n",
    "plt = plot(plot(), plot(), layout=@layout([a; b]), size=[450,700]);\n",
    "plot!(plt[1], collect(-2:0.1:2),UxLin, legend=false)\n",
    "plot!(plt[2], xVec,UxLog, label=\"U(x)\")\n",
    "plot!(plt[2], xVec,Bx, label=\"B(x)\")\n",
    "Plots.svg(\"BoundSchematic\")"
   ]
  },
  {
   "cell_type": "code",
   "execution_count": 35,
   "metadata": {},
   "outputs": [
    {
     "data": {
      "text/plain": [
       "0.24999920733223643x^4 - 0.5000041733816547x^2 - 0.09999942258906444x + 28505.193348376823"
      ]
     },
     "execution_count": 35,
     "metadata": {},
     "output_type": "execute_result"
    }
   ],
   "source": [
    "U"
   ]
  }
 ],
 "metadata": {
  "kernelspec": {
   "display_name": "Julia 0.6.2",
   "language": "julia",
   "name": "julia-0.6"
  },
  "language_info": {
   "file_extension": ".jl",
   "mimetype": "application/julia",
   "name": "julia",
   "version": "0.6.2"
  }
 },
 "nbformat": 4,
 "nbformat_minor": 2
}
