{
 "cells": [
  {
   "cell_type": "code",
   "execution_count": 1,
   "metadata": {},
   "outputs": [
    {
     "name": "stderr",
     "output_type": "stream",
     "text": [
      "WARNING: replacing module ReverseDiffSparse.\n",
      "WARNING: Method definition midpoints(Base.Range{T} where T) in module Base at deprecated.jl:56 overwritten in module StatsBase at /cluster/home/rdb13/.julia/v0.6/StatsBase/src/hist.jl:535.\n",
      "WARNING: Method definition midpoints(AbstractArray{T, 1} where T) in module Base at deprecated.jl:56 overwritten in module StatsBase at /cluster/home/rdb13/.julia/v0.6/StatsBase/src/hist.jl:533.\n"
     ]
    }
   ],
   "source": [
    "# Set up the workspace\n",
    "using SumOfSquares, JuMP, PolyJuMP, DynamicPolynomials, MultivariatePolynomials\n",
    "using Mosek#, CSDP#, SCS\n",
    "using Plots\n",
    "gr()\n",
    "\n",
    "include(\"../src/NormalSoS.jl\")\n",
    "using NormalSoS"
   ]
  },
  {
   "cell_type": "markdown",
   "metadata": {},
   "source": [
    "# Nonlinear Examples\n",
    "\n",
    "We will examine some nonlinear examples on which the SOS decomposition method is applied."
   ]
  },
  {
   "cell_type": "code",
   "execution_count": 5,
   "metadata": {},
   "outputs": [
    {
     "name": "stdout",
     "output_type": "stream",
     "text": [
      "Chosen basis as:\n",
      "DynamicPolynomials.Monomial{true}[x^4, x^3, x^2, x, 1]\n",
      "Problem\n",
      "  Name                   :                 \n",
      "  Objective sense        : min             \n",
      "  Type                   : CONIC (conic optimization problem)\n",
      "  Constraints            : 61              \n",
      "  Cones                  : 0               \n",
      "  Scalar variables       : 6               \n",
      "  Matrix variables       : 2               \n",
      "  Integer variables      : 0               \n",
      "\n",
      "Optimizer started.\n",
      "Presolve started.\n",
      "Linear dependency checker started.\n",
      "Linear dependency checker terminated.\n",
      "Eliminator - tries                  : 0                 time                   : 0.00            \n",
      "Lin. dep.  - tries                  : 1                 time                   : 0.00            \n",
      "Lin. dep.  - number                 : 0               \n",
      "Presolve terminated. Time: 0.00    \n",
      "Problem\n",
      "  Name                   :                 \n",
      "  Objective sense        : min             \n",
      "  Type                   : CONIC (conic optimization problem)\n",
      "  Constraints            : 61              \n",
      "  Cones                  : 0               \n",
      "  Scalar variables       : 6               \n",
      "  Matrix variables       : 2               \n",
      "  Integer variables      : 0               \n",
      "\n",
      "Optimizer  - threads                : 8               \n",
      "Optimizer  - solved problem         : the primal      \n",
      "Optimizer  - Constraints            : 60\n",
      "Optimizer  - Cones                  : 1\n",
      "Optimizer  - Scalar variables       : 7                 conic                  : 6               \n",
      "Optimizer  - Semi-definite variables: 2                 scalarized             : 111             \n",
      "Factor     - setup time             : 0.00              dense det. time        : 0.00            \n",
      "Factor     - ML order time          : 0.00              GP order time          : 0.00            \n",
      "Factor     - nonzeros before factor : 1610              after factor           : 1610            \n",
      "Factor     - dense dim.             : 0                 flops                  : 8.75e+04        \n",
      "ITE PFEAS    DFEAS    GFEAS    PRSTATUS   POBJ              DOBJ              MU       TIME  \n",
      "0   1.0e+00  1.0e+00  1.0e+00  0.00e+00   0.000000000e+00   0.000000000e+00   1.0e+00  0.00  \n",
      "1   2.0e-01  2.0e-01  4.2e-01  5.36e-01   -1.022214553e-01  -1.125288317e-01  2.0e-01  0.00  \n",
      "2   4.2e-02  4.2e-02  1.8e-01  9.10e-01   -1.103478568e-01  -1.087988262e-01  4.2e-02  0.00  \n",
      "3   8.5e-03  8.5e-03  5.9e-02  7.73e-01   -1.865201303e-01  -1.786022985e-01  8.5e-03  0.00  \n",
      "4   1.6e-03  1.6e-03  1.7e-02  5.95e-01   -2.204598497e-01  -2.154441751e-01  1.6e-03  0.00  \n",
      "5   4.6e-04  4.6e-04  7.5e-03  6.05e-01   -2.330165692e-01  -2.304184516e-01  4.6e-04  0.01  \n",
      "6   1.6e-04  1.6e-04  4.1e-03  8.26e-01   -2.377606478e-01  -2.366064631e-01  1.6e-04  0.01  \n",
      "7   8.5e-05  8.5e-05  1.9e-03  3.42e-01   -2.417457313e-01  -2.402392804e-01  8.5e-05  0.01  \n",
      "8   2.0e-05  2.0e-05  9.1e-04  8.39e-01   -2.444607339e-01  -2.440707406e-01  2.0e-05  0.01  \n",
      "9   6.1e-06  6.1e-06  2.9e-04  4.19e-01   -2.466818084e-01  -2.462894598e-01  6.1e-06  0.01  \n",
      "10  1.9e-06  1.9e-06  1.3e-04  7.06e-01   -2.476271846e-01  -2.474475678e-01  1.9e-06  0.01  \n",
      "11  7.4e-07  7.4e-07  4.8e-05  2.76e-01   -2.484482355e-01  -2.482234519e-01  7.4e-07  0.01  \n",
      "12  1.8e-07  1.8e-07  2.1e-05  7.54e-01   -2.489365467e-01  -2.488603606e-01  1.8e-07  0.01  \n",
      "13  5.7e-08  5.7e-08  6.4e-06  3.72e-01   -2.493341242e-01  -2.492556755e-01  5.7e-08  0.01  \n",
      "14  1.8e-08  1.7e-08  2.9e-06  6.88e-01   -2.495183668e-01  -2.494825158e-01  1.7e-08  0.01  \n",
      "15  7.5e-09  6.8e-09  1.0e-06  2.48e-01   -2.496827372e-01  -2.496372083e-01  6.8e-09  0.01  \n",
      "16  1.7e-09  1.7e-09  4.2e-07  7.35e-01   -2.497825137e-01  -2.497669770e-01  1.7e-09  0.01  \n",
      "17  5.1e-10  5.0e-10  1.3e-07  3.63e-01   -2.498639238e-01  -2.498482377e-01  5.0e-10  0.02  \n",
      "18  1.6e-10  1.6e-10  5.7e-08  6.68e-01   -2.499012321e-01  -2.498938387e-01  1.6e-10  0.02  \n",
      "19  6.2e-11  6.9e-11  2.0e-08  2.29e-01   -2.499345892e-01  -2.499251109e-01  6.2e-11  0.02  \n",
      "20  1.5e-11  2.8e-11  8.3e-09  7.30e-01   -2.499553520e-01  -2.499521674e-01  1.5e-11  0.02  \n",
      "21  3.6e-11  2.8e-11  8.3e-09  5.03e-01   -2.499553882e-01  -2.499522055e-01  1.5e-11  0.02  \n",
      "22  5.2e-11  2.8e-11  8.2e-09  6.00e-01   -2.499554610e-01  -2.499522827e-01  1.5e-11  0.03  \n",
      "23  6.0e-11  2.8e-11  8.2e-09  5.90e-01   -2.499554978e-01  -2.499523214e-01  1.5e-11  0.03  \n",
      "24  6.3e-11  2.8e-11  8.2e-09  6.42e-01   -2.499555067e-01  -2.499523311e-01  1.5e-11  0.04  \n",
      "25  6.4e-11  2.8e-11  8.2e-09  3.54e-01   -2.499555434e-01  -2.499523680e-01  1.5e-11  0.04  \n",
      "26  6.5e-11  2.8e-11  8.2e-09  3.18e-01   -2.499555457e-01  -2.499523703e-01  1.5e-11  0.04  \n",
      "27  5.9e-11  2.7e-11  8.1e-09  9.09e-02   -2.499557034e-01  -2.499525150e-01  1.4e-11  0.05  \n",
      "28  5.7e-11  2.6e-11  8.0e-09  1.97e-01   -2.499557813e-01  -2.499525903e-01  1.4e-11  0.05  \n",
      "29  4.5e-11  2.6e-11  8.0e-09  6.30e-01   -2.499559215e-01  -2.499527467e-01  1.4e-11  0.05  \n",
      "30  5.3e-11  2.6e-11  7.9e-09  7.65e-01   -2.499559976e-01  -2.499528294e-01  1.4e-11  0.06  \n",
      "31  4.8e-11  2.6e-11  7.2e-09  3.34e-01   -2.499572526e-01  -2.499540976e-01  1.3e-11  0.06  \n",
      "32  5.8e-11  2.7e-11  7.2e-09  3.39e-01   -2.499573980e-01  -2.499542522e-01  1.3e-11  0.06  \n",
      "33  5.9e-11  2.8e-11  7.2e-09  3.13e-01   -2.499574169e-01  -2.499542716e-01  1.3e-11  0.06  \n",
      "34  5.8e-11  2.7e-11  7.1e-09  1.47e-01   -2.499575747e-01  -2.499544283e-01  1.3e-11  0.07  \n",
      "35  5.9e-11  2.6e-11  7.1e-09  7.21e-01   -2.499575794e-01  -2.499544337e-01  1.3e-11  0.07  \n",
      "36  6.0e-11  2.6e-11  7.1e-09  5.80e-01   -2.499575806e-01  -2.499544350e-01  1.3e-11  0.07  \n",
      "37  5.3e-11  2.4e-11  7.0e-09  3.21e-01   -2.499576565e-01  -2.499545133e-01  1.3e-11  0.08  \n",
      "38  5.9e-11  2.6e-11  7.0e-09  5.68e-01   -2.499576933e-01  -2.499545544e-01  1.2e-11  0.08  \n",
      "39  5.0e-11  1.7e-11  6.9e-09  3.17e-01   -2.499578459e-01  -2.499547121e-01  1.2e-11  0.08  \n",
      "40  5.9e-11  1.5e-11  6.9e-09  3.80e-01   -2.499579217e-01  -2.499547917e-01  1.2e-11  0.09  \n",
      "41  5.9e-11  1.5e-11  6.9e-09  1.07e+00   -2.499579217e-01  -2.499547917e-01  1.2e-11  0.09  \n",
      "42  5.9e-11  1.5e-11  6.9e-09  1.07e+00   -2.499579231e-01  -2.499547932e-01  1.2e-11  0.09  \n",
      "43  5.1e-11  1.6e-11  6.8e-09  -1.72e-01  -2.499580473e-01  -2.499549179e-01  1.2e-11  0.10  \n",
      "44  5.5e-11  1.7e-11  6.8e-09  7.00e-01   -2.499580662e-01  -2.499549394e-01  1.2e-11  0.10  \n",
      "45  4.9e-11  3.2e-11  6.7e-09  3.24e-01   -2.499583732e-01  -2.499552580e-01  1.2e-11  0.10  \n",
      "46  5.7e-11  3.2e-11  6.6e-09  1.42e+00   -2.499586222e-01  -2.499555097e-01  1.2e-11  0.10  \n",
      "47  5.8e-11  3.2e-11  6.6e-09  4.06e-01   -2.499586269e-01  -2.499555148e-01  1.2e-11  0.11  \n",
      "48  5.6e-11  3.1e-11  6.6e-09  2.94e-01   -2.499586644e-01  -2.499555542e-01  1.2e-11  0.11  \n",
      "49  5.5e-11  3.4e-11  6.3e-09  2.91e-01   -2.499592949e-01  -2.499562064e-01  1.1e-11  0.11  \n",
      "50  5.4e-11  3.4e-11  6.3e-09  5.33e-01   -2.499593337e-01  -2.499562489e-01  1.1e-11  0.12  \n",
      "51  5.6e-11  3.4e-11  6.3e-09  5.03e-01   -2.499593778e-01  -2.499562917e-01  1.1e-11  0.12  \n",
      "52  5.6e-11  3.4e-11  6.3e-09  3.91e-01   -2.499593873e-01  -2.499563019e-01  1.1e-11  0.12  \n",
      "53  5.2e-11  3.1e-11  5.7e-09  2.78e-01   -2.499606872e-01  -2.499576520e-01  1.0e-11  0.12  \n",
      "54  5.2e-11  3.1e-11  5.7e-09  2.63e-01   -2.499606920e-01  -2.499576571e-01  1.0e-11  0.13  \n",
      "55  5.3e-11  3.1e-11  5.7e-09  2.77e-01   -2.499607111e-01  -2.499576772e-01  1.0e-11  0.13  \n",
      "56  5.3e-11  3.1e-11  5.7e-09  5.66e-01   -2.499607124e-01  -2.499576786e-01  1.0e-11  0.13  \n",
      "57  5.2e-11  3.1e-11  5.6e-09  2.72e-01   -2.499608670e-01  -2.499578402e-01  9.9e-12  0.14  \n",
      "Optimizer terminated. Time: 0.14    \n",
      "\n",
      "\n",
      "Interior-point solution summary\n",
      "  Problem status  : PRIMAL_AND_DUAL_FEASIBLE\n",
      "  Solution status : OPTIMAL\n",
      "  Primal.  obj: -2.4996086700e-01   nrm: 2e+03    Viol.  con: 5e-07    var: 0e+00    barvar: 0e+00  \n",
      "  Dual.    obj: -2.4995784019e-01   nrm: 1e+03    Viol.  con: 0e+00    var: 6e-09    barvar: 2e-08  \n",
      "status = :Stall\n",
      "bnd = DynamicPolynomials.Monomial{true}[x^4]\n",
      "getvalue(ϵ) = [0.249961]\n",
      "Problem\n",
      "  Name                   :                 \n",
      "  Objective sense        : min             \n",
      "  Type                   : CONIC (conic optimization problem)\n",
      "  Constraints            : 69              \n",
      "  Cones                  : 0               \n",
      "  Scalar variables       : 7               \n",
      "  Matrix variables       : 3               \n",
      "  Integer variables      : 0               \n",
      "\n",
      "Optimizer started.\n",
      "Presolve started.\n",
      "Linear dependency checker started.\n",
      "Linear dependency checker terminated.\n",
      "Eliminator - tries                  : 0                 time                   : 0.00            \n",
      "Lin. dep.  - tries                  : 1                 time                   : 0.00            \n",
      "Lin. dep.  - number                 : 0               \n",
      "Presolve terminated. Time: 0.00    \n",
      "Problem\n",
      "  Name                   :                 \n",
      "  Objective sense        : min             \n",
      "  Type                   : CONIC (conic optimization problem)\n",
      "  Constraints            : 69              \n",
      "  Cones                  : 0               \n",
      "  Scalar variables       : 7               \n",
      "  Matrix variables       : 3               \n",
      "  Integer variables      : 0               \n",
      "\n",
      "Optimizer  - threads                : 8               \n",
      "Optimizer  - solved problem         : the primal      \n",
      "Optimizer  - Constraints            : 67\n",
      "Optimizer  - Cones                  : 1\n",
      "Optimizer  - Scalar variables       : 8                 conic                  : 6               \n",
      "Optimizer  - Semi-definite variables: 3                 scalarized             : 121             \n",
      "Factor     - setup time             : 0.00              dense det. time        : 0.00            \n",
      "Factor     - ML order time          : 0.00              GP order time          : 0.00            \n",
      "Factor     - nonzeros before factor : 1750              after factor           : 1750            \n",
      "Factor     - dense dim.             : 0                 flops                  : 9.13e+04        \n",
      "ITE PFEAS    DFEAS    GFEAS    PRSTATUS   POBJ              DOBJ              MU       TIME  \n",
      "0   1.0e+00  2.0e+03  1.0e+00  0.00e+00   0.000000000e+00   0.000000000e+00   1.0e+00  0.00  \n",
      "1   2.5e-01  5.0e+02  1.2e-01  -9.99e-01  -3.237176689e+03  -1.073601479e+02  2.5e-01  0.00  \n",
      "2   5.1e-02  1.0e+02  1.2e-02  -9.95e-01  -1.965709187e+04  -7.987840544e+02  5.1e-02  0.00  \n",
      "3   8.6e-03  1.8e+01  8.4e-04  -9.75e-01  -1.126255269e+05  -5.730554439e+03  8.6e-03  0.00  \n",
      "4   2.2e-03  4.6e+00  1.3e-04  -8.52e-01  -3.192422890e+05  -1.885806725e+04  2.2e-03  0.01  \n",
      "5   7.0e-04  1.4e+00  3.8e-05  -4.51e-01  -3.866517809e+05  -3.783475583e+04  7.0e-04  0.01  \n",
      "6   1.8e-04  3.7e-01  1.9e-05  3.53e-01   -1.346521188e+05  -3.905765132e+04  1.8e-04  0.01  \n",
      "7   2.4e-05  4.8e-02  1.4e-05  1.02e+00   -3.121422053e+04  -2.839298619e+04  2.4e-05  0.01  \n",
      "8   5.9e-06  1.2e-02  4.4e-06  1.71e+00   -4.666583951e+03  -2.895423931e+03  5.9e-06  0.01  \n",
      "9   8.9e-07  1.8e-03  2.1e-06  1.16e+00   -7.090732035e+02  -5.234477313e+02  8.9e-07  0.01  \n",
      "10  8.8e-08  1.8e-04  6.8e-07  1.09e+00   -6.805675455e+01  -5.112064167e+01  8.8e-08  0.01  \n",
      "11  5.7e-09  1.2e-05  1.8e-07  1.01e+00   -4.358098425e+00  -3.309601513e+00  5.6e-09  0.01  \n",
      "12  1.1e-09  4.5e-07  3.7e-08  1.02e+00   -1.753598350e-01  -1.390587378e-01  2.2e-10  0.01  \n",
      "13  1.1e-09  4.5e-07  3.7e-08  1.05e+00   -1.753598350e-01  -1.390587378e-01  2.2e-10  0.02  \n",
      "Optimizer terminated. Time: 0.02    \n",
      "\n",
      "\n",
      "Interior-point solution summary\n",
      "  Problem status  : PRIMAL_AND_DUAL_FEASIBLE\n",
      "  Solution status : OPTIMAL\n",
      "  Primal.  obj: -1.7535983496e-01   nrm: 3e+04    Viol.  con: 2e-01    var: 0e+00    barvar: 0e+00  \n",
      "  Dual.    obj: -1.3905873775e-01   nrm: 4e+04    Viol.  con: 0e+00    var: 2e-06    barvar: 3e-06  \n",
      "  0.203686 seconds (44.04 k allocations: 2.754 MiB)\n"
     ]
    },
    {
     "name": "stderr",
     "output_type": "stream",
     "text": [
      "\u001b[1m\u001b[33mWARNING: \u001b[39m\u001b[22m\u001b[33mNot solved to optimality, status: Stall\u001b[39m\n",
      "\u001b[1m\u001b[33mWARNING: \u001b[39m\u001b[22m\u001b[33mNot solved to optimality, status: Stall\u001b[39m\n"
     ]
    },
    {
     "data": {
      "text/plain": [
       "2.5271169070811736e-5"
      ]
     },
     "execution_count": 5,
     "metadata": {},
     "output_type": "execute_result"
    }
   ],
   "source": [
    "# A 1D system with a quartic potential\n",
    "@polyvar x;    x = [x];\n",
    "F1(X::Vector) = [X[1] - X[1]^3 + 0.1];\n",
    "f1 = F1(x);\n",
    "@time U1 = NormalSoS.normdecomp(f1,x, MosekSolver(),1)\n",
    "NormalSoS.checknorm(f1,U1,x)"
   ]
  },
  {
   "cell_type": "code",
   "execution_count": 6,
   "metadata": {},
   "outputs": [
    {
     "name": "stdout",
     "output_type": "stream",
     "text": [
      "U1 = 0.24998873431572866x^4 - 0.4999979210237132x^2 - 0.0999986771350169x + 28657.82240539591\n"
     ]
    },
    {
     "data": {
      "text/plain": [
       "0.24998873431572866x^4 - 0.4999979210237132x^2 - 0.0999986771350169x + 28657.82240539591"
      ]
     },
     "execution_count": 6,
     "metadata": {},
     "output_type": "execute_result"
    }
   ],
   "source": [
    "@show(U1)"
   ]
  },
  {
   "cell_type": "code",
   "execution_count": null,
   "metadata": {
    "collapsed": true
   },
   "outputs": [],
   "source": []
  }
 ],
 "metadata": {
  "kernelspec": {
   "display_name": "Julia 0.6.0",
   "language": "julia",
   "name": "julia-0.6"
  },
  "language_info": {
   "file_extension": ".jl",
   "mimetype": "application/julia",
   "name": "julia",
   "version": "0.6.0"
  }
 },
 "nbformat": 4,
 "nbformat_minor": 2
}
