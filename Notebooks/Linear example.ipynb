{
 "cells": [
  {
   "cell_type": "code",
   "execution_count": 1,
   "metadata": {},
   "outputs": [
    {
     "name": "stderr",
     "output_type": "stream",
     "text": [
      "\u001b[1m\u001b[36mINFO: \u001b[39m\u001b[22m\u001b[36mRecompiling stale cache file /cluster/home/rdb13/.julia/lib/v0.6/SumOfSquares.ji for module SumOfSquares.\n",
      "\u001b[39m\u001b[1m\u001b[36mINFO: \u001b[39m\u001b[22m\u001b[36mRecompiling stale cache file /cluster/home/rdb13/.julia/lib/v0.6/Mosek.ji for module Mosek.\n",
      "\u001b[39m\u001b[1m\u001b[36mINFO: \u001b[39m\u001b[22m\u001b[36mRecompiling stale cache file /cluster/home/rdb13/.julia/lib/v0.6/GZip.ji for module GZip.\n",
      "\u001b[39m\u001b[1m\u001b[36mINFO: \u001b[39m\u001b[22m\u001b[36mRecompiling stale cache file /cluster/home/rdb13/.julia/lib/v0.6/StaticArrays.ji for module StaticArrays.\n",
      "\u001b[39m\u001b[1m\u001b[36mINFO: \u001b[39m\u001b[22m\u001b[36mRecompiling stale cache file /cluster/home/rdb13/.julia/lib/v0.6/Plots.ji for module Plots.\n",
      "\u001b[39m"
     ]
    }
   ],
   "source": [
    "# Set up the workspace\n",
    "using SumOfSquares, JuMP, PolyJuMP, DynamicPolynomials, MultivariatePolynomials\n",
    "using Mosek, CSDP#, SCS\n",
    "using Plots\n",
    "gr()\n",
    "\n",
    "include(\"../src/NormalSoS.jl\")\n",
    "using NormalSoS"
   ]
  },
  {
   "cell_type": "markdown",
   "metadata": {},
   "source": [
    "# Linear Example\n",
    "\n",
    "As a first test case we will examine the linear example of Zhou \\emph{et al.} (2012). For a linear system the dynamics is expressed in terms of a matrix $A$, and the properties of the decomposition are determined by some well known properties of this matrix.\n",
    "\\begin{equation}\n",
    "    \\dot{x} = f(x) = Ax.\n",
    "\\end{equation}\n",
    "If $A$ is a normal matrix, then an orthogonal decomposition should be achieveable via a symmetric-antisymmetric decomposition. In this case the quasi-potential is given by:\n",
    "\\begin{equation}\n",
    "    V(x) = -\\frac{1}{2}((A+A^*)x,x),\n",
    "\\end{equation}\n",
    "where the brackets denote an inner product.\n",
    "\n",
    "If $A$ is not normal, then the quasipotential is given by the slightly more complicated expression:\n",
    "\\begin{equation}\n",
    "    V(x) = -\\frac{1}{2}\\left( \\left( \\int_0^\\infty \\exp(At) \\exp(A^*t)\\,\\text{d}t\\right)^{-1}x, x \\right).\n",
    "\\end{equation}\n",
    "Such a quasipotential will not satisfy a normal decomposition. A useful comparison can therefore be made between this analytical expression for the quasipotential and that resulting from the SoS method for non-normal linear systems."
   ]
  },
  {
   "cell_type": "code",
   "execution_count": 4,
   "metadata": {},
   "outputs": [
    {
     "name": "stdout",
     "output_type": "stream",
     "text": [
      "Chosen basis as:\n",
      "DynamicPolynomials.Monomial{true}[x11^2, x11x12, x12^2, 1]\n",
      "Problem\n",
      "  Name                   :                 \n",
      "  Objective sense        : min             \n",
      "  Type                   : CONIC (conic optimization problem)\n",
      "  Constraints            : 98              \n",
      "  Cones                  : 0               \n",
      "  Scalar variables       : 6               \n",
      "  Matrix variables       : 2               \n",
      "  Integer variables      : 0               \n",
      "\n",
      "Optimizer started.\n",
      "Presolve started.\n",
      "Linear dependency checker started.\n",
      "Linear dependency checker terminated.\n",
      "Eliminator - tries                  : 0                 time                   : 0.00            \n",
      "Lin. dep.  - tries                  : 1                 time                   : 0.00            \n",
      "Lin. dep.  - number                 : 0               \n",
      "Presolve terminated. Time: 0.00    \n",
      "Problem\n",
      "  Name                   :                 \n",
      "  Objective sense        : min             \n",
      "  Type                   : CONIC (conic optimization problem)\n",
      "  Constraints            : 98              \n",
      "  Cones                  : 0               \n",
      "  Scalar variables       : 6               \n",
      "  Matrix variables       : 2               \n",
      "  Integer variables      : 0               \n",
      "\n",
      "Optimizer  - threads                : 8               \n",
      "Optimizer  - solved problem         : the primal      \n",
      "Optimizer  - Constraints            : 96\n",
      "Optimizer  - Cones                  : 1\n",
      "Optimizer  - Scalar variables       : 7                 conic                  : 5               \n",
      "Optimizer  - Semi-definite variables: 2                 scalarized             : 126             \n",
      "Factor     - setup time             : 0.00              dense det. time        : 0.00            \n",
      "Factor     - ML order time          : 0.00              GP order time          : 0.00            \n",
      "Factor     - nonzeros before factor : 4144              after factor           : 4144            \n",
      "Factor     - dense dim.             : 0                 flops                  : 2.91e+05        \n",
      "ITE PFEAS    DFEAS    GFEAS    PRSTATUS   POBJ              DOBJ              MU       TIME  \n",
      "0   1.0e+00  1.0e+00  1.0e+00  0.00e+00   0.000000000e+00   0.000000000e+00   1.0e+00  0.00  \n",
      "1   2.2e-01  2.2e-01  3.5e-01  3.33e-01   -5.302930496e-01  -4.371794249e-01  2.2e-01  0.00  \n",
      "2   6.1e-02  6.1e-02  1.5e-01  7.31e-01   -1.305631079e+00  -1.237440508e+00  6.1e-02  0.00  \n",
      "3   2.5e-03  2.5e-03  3.8e-02  1.02e+00   -1.484321011e+00  -1.484223831e+00  2.5e-03  0.01  \n",
      "4   1.2e-05  1.2e-05  2.8e-03  9.98e-01   -1.499936374e+00  -1.499937714e+00  1.2e-05  0.01  \n",
      "5   8.6e-08  8.6e-08  2.4e-04  1.00e+00   -1.499999636e+00  -1.499999649e+00  8.6e-08  0.01  \n",
      "6   1.2e-09  1.2e-09  2.9e-05  1.00e+00   -1.499999996e+00  -1.499999996e+00  1.2e-09  0.01  \n",
      "Optimizer terminated. Time: 0.01    \n",
      "\n",
      "\n",
      "Interior-point solution summary\n",
      "  Problem status  : PRIMAL_AND_DUAL_FEASIBLE\n",
      "  Solution status : OPTIMAL\n",
      "  Primal.  obj: -1.4999999959e+00   nrm: 4e+00    Viol.  con: 2e-09    var: 0e+00    barvar: 0e+00  \n",
      "  Dual.    obj: -1.4999999961e+00   nrm: 2e+00    Viol.  con: 0e+00    var: 2e-09    barvar: 2e-09  \n",
      "status = :Optimal\n",
      "bnd = x11^2 + x12^2\n",
      "getvalue(ϵ) = [0.5, 1.0]\n",
      "  0.031982 seconds (19.02 k allocations: 1.276 MiB)\n"
     ]
    },
    {
     "data": {
      "text/plain": [
       "0.5000000000833625x11^2 + 4.2544337401013837e-10x11x12 + 0.9999999994659452x12^2 + 1.085285736786082"
      ]
     },
     "execution_count": 4,
     "metadata": {},
     "output_type": "execute_result"
    }
   ],
   "source": [
    "@polyvar x1[1:2]\n",
    "F1(x::Vector) = [-x[1] + 2.0x[2];\n",
    "     -x[1] - 2.0x[2]];\n",
    "f1 = F1(x1);\n",
    "@time Ueg1 = NormalSoS.normdecomp(f1,x1, MosekSolver(),0)"
   ]
  },
  {
   "cell_type": "code",
   "execution_count": 8,
   "metadata": {},
   "outputs": [
    {
     "ename": "LoadError",
     "evalue": "\u001b[91mDimensionMismatch(\"dimensions must match\")\u001b[39m",
     "output_type": "error",
     "traceback": [
      "\u001b[91mDimensionMismatch(\"dimensions must match\")\u001b[39m",
      "",
      "Stacktrace:",
      " [1] \u001b[1mpromote_shape\u001b[22m\u001b[22m\u001b[1m(\u001b[22m\u001b[22m::Tuple{Base.OneTo{Int64},Base.OneTo{Int64}}, ::Tuple{Base.OneTo{Int64}}\u001b[1m)\u001b[22m\u001b[22m at \u001b[1m./indices.jl:84\u001b[22m\u001b[22m",
      " [2] \u001b[1m+\u001b[22m\u001b[22m\u001b[1m(\u001b[22m\u001b[22m::Array{Int64,2}, ::Array{Any,1}\u001b[1m)\u001b[22m\u001b[22m at \u001b[1m./arraymath.jl:37\u001b[22m\u001b[22m",
      " [3] \u001b[1minclude_string\u001b[22m\u001b[22m\u001b[1m(\u001b[22m\u001b[22m::String, ::String\u001b[1m)\u001b[22m\u001b[22m at \u001b[1m./loading.jl:515\u001b[22m\u001b[22m"
     ]
    }
   ],
   "source": [
    "A = [-1 2;\n",
    "     -1 -2];\n",
    "V = -0.5*dot(A+A'*x1,x1)"
   ]
  }
 ],
 "metadata": {
  "kernelspec": {
   "display_name": "Julia 0.6.0",
   "language": "julia",
   "name": "julia-0.6"
  },
  "language_info": {
   "file_extension": ".jl",
   "mimetype": "application/julia",
   "name": "julia",
   "version": "0.6.0"
  }
 },
 "nbformat": 4,
 "nbformat_minor": 2
}
