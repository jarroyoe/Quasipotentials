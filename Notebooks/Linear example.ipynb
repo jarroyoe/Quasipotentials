{
 "cells": [
  {
   "cell_type": "code",
   "execution_count": 102,
   "metadata": {},
   "outputs": [
    {
     "name": "stderr",
     "output_type": "stream",
     "text": [
      "WARNING: replacing module NormalSoS\n"
     ]
    }
   ],
   "source": [
    "# Set up the workspace\n",
    "using SumOfSquares, JuMP, PolyJuMP, DynamicPolynomials, MultivariatePolynomials\n",
    "using Mosek, CSDP#, SCS\n",
    "using Plots\n",
    "gr()\n",
    "\n",
    "include(\"../src/NormalSoS.jl\")\n",
    "using NormalSoS"
   ]
  },
  {
   "cell_type": "markdown",
   "metadata": {},
   "source": [
    "# Linear Example\n",
    "\n",
    "As a first test case we will examine the linear example of Zhou _et al._ (2012). For a linear system the dynamics is expressed in terms of a matrix $A$, and the properties of the decomposition are determined by some well known properties of this matrix.\n",
    "\\begin{equation}\n",
    "    \\dot{x} = f(x) = Ax.\n",
    "\\end{equation}\n",
    "If $A$ is a normal matrix, then an orthogonal decomposition should be achieveable via a symmetric-antisymmetric decomposition. In this case the quasi-potential is given by:\n",
    "\\begin{equation}\n",
    "    V(x) = -\\frac{1}{2}((A+A^*)x,x),\n",
    "\\end{equation}\n",
    "where the brackets denote an inner product.\n",
    "\n",
    "If $A$ is not normal, then the quasipotential is given by the slightly more complicated expression:\n",
    "\\begin{equation}\n",
    "    V(x) = -\\frac{1}{2}\\left( \\left( \\int_0^\\infty \\exp(At) \\exp(A^*t)\\,\\text{d}t\\right)^{-1}x, x \\right).\n",
    "\\end{equation}\n",
    "Such a quasipotential will not satisfy a normal decomposition. A useful comparison can therefore be made between this analytical expression for the quasipotential and that resulting from the SoS method for non-normal linear systems."
   ]
  },
  {
   "cell_type": "code",
   "execution_count": 103,
   "metadata": {},
   "outputs": [
    {
     "name": "stdout",
     "output_type": "stream",
     "text": [
      "Chosen basis as:\n",
      "DynamicPolynomials.Monomial{true}[x11^2, x11x12, x12^2, 1]\n"
     ]
    },
    {
     "ename": "LoadError",
     "evalue": "\u001b[91mMethodError: no method matching redirect_stdout(::IJulia.IJuliaStdio{Base.PipeEndpoint})\u001b[0m\nClosest candidates are:\n  redirect_stdout() at stream.jl:1034\n  redirect_stdout(\u001b[91m::Union{Base.LibuvStream, IOStream}\u001b[39m) at stream.jl:1028\n  redirect_stdout(\u001b[91m::Function\u001b[39m, \u001b[91m::Any\u001b[39m) at stream.jl:1082\u001b[39m",
     "output_type": "error",
     "traceback": [
      "\u001b[91mMethodError: no method matching redirect_stdout(::IJulia.IJuliaStdio{Base.PipeEndpoint})\u001b[0m\nClosest candidates are:\n  redirect_stdout() at stream.jl:1034\n  redirect_stdout(\u001b[91m::Union{Base.LibuvStream, IOStream}\u001b[39m) at stream.jl:1028\n  redirect_stdout(\u001b[91m::Function\u001b[39m, \u001b[91m::Any\u001b[39m) at stream.jl:1082\u001b[39m",
      "",
      "Stacktrace:",
      " [1] \u001b[1mnormopt2\u001b[22m\u001b[22m\u001b[1m(\u001b[22m\u001b[22m::Array{Any,1}, ::Array{DynamicPolynomials.PolyVar{true},1}, ::DynamicPolynomials.MonomialVector{true}, ::Mosek.MosekSolver, ::Bool\u001b[1m)\u001b[22m\u001b[22m at \u001b[1m/cluster/home/rdb13/Documents/GitRepositories/SDEtools/src/NormalSoS.jl:178\u001b[22m\u001b[22m",
      " [2] \u001b[1mnormdecomp\u001b[22m\u001b[22m\u001b[1m(\u001b[22m\u001b[22m::Array{Any,1}, ::Array{DynamicPolynomials.PolyVar{true},1}, ::Mosek.MosekSolver, ::Int64, ::Int64, ::Symbol, ::Symbol\u001b[1m)\u001b[22m\u001b[22m at \u001b[1m/cluster/home/rdb13/Documents/GitRepositories/SDEtools/src/NormalSoS.jl:40\u001b[22m\u001b[22m",
      " [3] \u001b[1mnormdecomp\u001b[22m\u001b[22m\u001b[1m(\u001b[22m\u001b[22m::Array{Any,1}, ::Array{DynamicPolynomials.PolyVar{true},1}, ::Mosek.MosekSolver, ::Int64\u001b[1m)\u001b[22m\u001b[22m at \u001b[1m/cluster/home/rdb13/Documents/GitRepositories/SDEtools/src/NormalSoS.jl:20\u001b[22m\u001b[22m",
      " [4] \u001b[1minclude_string\u001b[22m\u001b[22m\u001b[1m(\u001b[22m\u001b[22m::String, ::String\u001b[1m)\u001b[22m\u001b[22m at \u001b[1m./loading.jl:515\u001b[22m\u001b[22m"
     ]
    }
   ],
   "source": [
    "# A 2D normal example - WORKS\n",
    "@polyvar x1[1:2]\n",
    "A = [-5.0 0.2;\n",
    "     0.2 -1.0];\n",
    "F1(x::Vector) = A*x;\n",
    "f1 = F1(x1);\n",
    "U1 = NormalSoS.normdecomp(f1,x1, MosekSolver(),0);\n",
    "# V1 = -0.25*dot((A+A')*x1,x1);\n",
    "\n",
    "(λ,u) = eig(A);\n",
    "(~,v) = eig(A');\n",
    "P = diagm(λ);\n",
    "M = inv(u)*v\n",
    "for i=1:2, j=1:2\n",
    "    M[i,j] = -M[i,j]/(λ[i]+λ[j]);\n",
    "end\n",
    "V1 = 0.25*dot(inv(u*M*inv(v))*x1,x1)\n",
    "\n",
    "@show(U1);    @show(V1);"
   ]
  },
  {
   "cell_type": "code",
   "execution_count": 85,
   "metadata": {},
   "outputs": [
    {
     "name": "stdout",
     "output_type": "stream",
     "text": [
      "Chosen basis as:\n",
      "DynamicPolynomials.Monomial{true}[x21^2, x21x23, x22^2, x23^2, 1]\n",
      "Problem\n",
      "  Name                   :                 \n",
      "  Objective sense        : min             \n",
      "  Type                   : CONIC (conic optimization problem)\n",
      "  Constraints            : 279             \n",
      "  Cones                  : 0               \n",
      "  Scalar variables       : 8               \n",
      "  Matrix variables       : 2               \n",
      "  Integer variables      : 0               \n",
      "\n",
      "Optimizer started.\n",
      "Presolve started.\n",
      "Linear dependency checker started.\n",
      "Linear dependency checker terminated.\n",
      "Eliminator - tries                  : 0                 time                   : 0.00            \n",
      "Lin. dep.  - tries                  : 1                 time                   : 0.00            \n",
      "Lin. dep.  - number                 : 0               \n",
      "Presolve terminated. Time: 0.00    \n",
      "Problem\n",
      "  Name                   :                 \n",
      "  Objective sense        : min             \n",
      "  Type                   : CONIC (conic optimization problem)\n",
      "  Constraints            : 279             \n",
      "  Cones                  : 0               \n",
      "  Scalar variables       : 8               \n",
      "  Matrix variables       : 2               \n",
      "  Integer variables      : 0               \n",
      "\n",
      "Optimizer  - threads                : 8               \n",
      "Optimizer  - solved problem         : the primal      \n",
      "Optimizer  - Constraints            : 276\n",
      "Optimizer  - Cones                  : 1\n",
      "Optimizer  - Scalar variables       : 9                 conic                  : 6               \n",
      "Optimizer  - Semi-definite variables: 2                 scalarized             : 416             \n",
      "Factor     - setup time             : 0.00              dense det. time        : 0.00            \n",
      "Factor     - ML order time          : 0.00              GP order time          : 0.00            \n",
      "Factor     - nonzeros before factor : 3.56e+04          after factor           : 3.56e+04        \n",
      "Factor     - dense dim.             : 0                 flops                  : 6.76e+06        \n",
      "ITE PFEAS    DFEAS    GFEAS    PRSTATUS   POBJ              DOBJ              MU       TIME  \n",
      "0   1.0e+00  1.0e+00  1.0e+00  0.00e+00   0.000000000e+00   0.000000000e+00   1.0e+00  0.01  \n",
      "1   1.7e-01  1.7e-01  3.2e-01  3.01e-01   -8.115601176e-01  -7.555041467e-01  1.7e-01  0.01  \n",
      "2   4.4e-02  4.4e-02  1.1e-01  7.57e-01   -1.732955936e+00  -1.645765911e+00  4.4e-02  0.02  \n",
      "3   1.0e-02  1.0e-02  3.6e-02  -3.21e-01  -3.380688699e+00  -3.331463149e+00  1.0e-02  0.03  \n",
      "4   5.6e-04  5.6e-04  1.0e-02  9.65e-01   -3.529903172e+00  -3.528379997e+00  5.6e-04  0.03  \n",
      "5   3.9e-06  3.9e-06  1.5e-03  9.87e-01   -3.549863542e+00  -3.549868403e+00  3.9e-06  0.04  \n",
      "6   6.3e-09  6.3e-09  6.7e-05  1.00e+00   -3.549999861e+00  -3.549999870e+00  6.3e-09  0.04  \n",
      "Optimizer terminated. Time: 0.05    \n",
      "\n",
      "\n",
      "Interior-point solution summary\n",
      "  Problem status  : PRIMAL_AND_DUAL_FEASIBLE\n",
      "  Solution status : OPTIMAL\n",
      "  Primal.  obj: -3.5499998607e+00   nrm: 3e+01    Viol.  con: 2e-08    var: 0e+00    barvar: 0e+00  \n",
      "  Dual.    obj: -3.5499998704e+00   nrm: 3e+00    Viol.  con: 8e-09    var: 2e-08    barvar: 2e-08  \n",
      "status = :Optimal\n",
      "bnd = x21^2 + x22^2 + x23^2\n",
      "getvalue(ϵ) = [2.39999, 0.75, 0.400013]\n",
      "U2 = 2.4999998459675026x21^2 - 0.1999996920886303x21x23 + 0.7499999729553151x22^2 + 0.4999997328726275x23^2 + 1.7994937609643682\n",
      "V2 = 2.4999999999999996x21^2 - 0.1999999999999999x21x23 + 0.75x22^2 + 0.5x23^2\n"
     ]
    }
   ],
   "source": [
    "# A 3D normal example - WORKS\n",
    "@polyvar x2[1:3]\n",
    "A = [-5.0 0.0 0.2;\n",
    "     0.0 -1.5 0.0;\n",
    "     0.2 0.0 -1.0];\n",
    "F2(x::Vector) = A*x;\n",
    "f2 = F2(x2);\n",
    "U2 = NormalSoS.normdecomp(f2,x2, MosekSolver(),0);\n",
    "# V2 = -0.25*dot((A+A')*x2,x2);\n",
    "\n",
    "(λ,u) = eig(A);\n",
    "(~,v) = eig(A');\n",
    "P = diagm(λ);\n",
    "M = inv(u)*v\n",
    "for i=1:3, j=1:3\n",
    "    M[i,j] = -M[i,j]/(λ[i]+λ[j]);\n",
    "end\n",
    "V2 = 0.25*dot(inv(u*M*inv(v))*x2,x2)\n",
    "\n",
    "@show(U2);    @show(V2);"
   ]
  },
  {
   "cell_type": "code",
   "execution_count": 86,
   "metadata": {},
   "outputs": [
    {
     "name": "stdout",
     "output_type": "stream",
     "text": [
      "Chosen basis as:\n",
      "DynamicPolynomials.Monomial{true}[x31^2, x31x32, x32^2, 1]\n",
      "Problem\n",
      "  Name                   :                 \n",
      "  Objective sense        : min             \n",
      "  Type                   : CONIC (conic optimization problem)\n",
      "  Constraints            : 98              \n",
      "  Cones                  : 0               \n",
      "  Scalar variables       : 6               \n",
      "  Matrix variables       : 2               \n",
      "  Integer variables      : 0               \n",
      "\n",
      "Optimizer started.\n",
      "Presolve started.\n",
      "Linear dependency checker started.\n",
      "Linear dependency checker terminated.\n",
      "Eliminator - tries                  : 0                 time                   : 0.00            \n",
      "Lin. dep.  - tries                  : 1                 time                   : 0.00            \n",
      "Lin. dep.  - number                 : 0               \n",
      "Presolve terminated. Time: 0.00    \n",
      "Problem\n",
      "  Name                   :                 \n",
      "  Objective sense        : min             \n",
      "  Type                   : CONIC (conic optimization problem)\n",
      "  Constraints            : 98              \n",
      "  Cones                  : 0               \n",
      "  Scalar variables       : 6               \n",
      "  Matrix variables       : 2               \n",
      "  Integer variables      : 0               \n",
      "\n",
      "Optimizer  - threads                : 8               \n",
      "Optimizer  - solved problem         : the primal      \n",
      "Optimizer  - Constraints            : 96\n",
      "Optimizer  - Cones                  : 1\n",
      "Optimizer  - Scalar variables       : 7                 conic                  : 5               \n",
      "Optimizer  - Semi-definite variables: 2                 scalarized             : 126             \n",
      "Factor     - setup time             : 0.00              dense det. time        : 0.00            \n",
      "Factor     - ML order time          : 0.00              GP order time          : 0.00            \n",
      "Factor     - nonzeros before factor : 4144              after factor           : 4144            \n",
      "Factor     - dense dim.             : 0                 flops                  : 2.91e+05        \n",
      "ITE PFEAS    DFEAS    GFEAS    PRSTATUS   POBJ              DOBJ              MU       TIME  \n",
      "0   1.0e+00  1.0e+00  1.0e+00  0.00e+00   0.000000000e+00   0.000000000e+00   1.0e+00  0.00  \n",
      "1   2.1e-01  2.1e-01  3.5e-01  3.62e-01   -4.038558750e-01  -3.337228455e-01  2.1e-01  0.00  \n",
      "2   4.1e-02  4.1e-02  1.3e-01  7.49e-01   -6.171267794e-01  -5.831407195e-01  4.1e-02  0.00  \n",
      "3   5.8e-03  5.8e-03  4.1e-02  8.78e-01   -5.241812837e-01  -5.143595810e-01  5.8e-03  0.01  \n",
      "4   1.6e-03  1.6e-03  1.2e-02  2.12e-01   -5.916361827e-01  -5.782557658e-01  1.6e-03  0.01  \n",
      "5   3.2e-04  3.2e-04  3.8e-03  4.72e-01   -6.321008822e-01  -6.262281582e-01  3.2e-04  0.01  \n",
      "6   3.2e-05  3.2e-05  1.7e-03  9.06e-01   -6.449032077e-01  -6.446718759e-01  3.2e-05  0.01  \n",
      "7   1.7e-06  1.7e-06  3.3e-04  9.78e-01   -6.470426243e-01  -6.470228964e-01  1.7e-06  0.01  \n",
      "8   2.1e-07  2.1e-07  1.1e-04  1.00e+00   -6.470551788e-01  -6.470526185e-01  2.1e-07  0.01  \n",
      "9   2.1e-09  2.1e-09  2.1e-09  1.00e+00   -6.470587742e-01  -6.470587493e-01  2.1e-09  0.01  \n",
      "Optimizer terminated. Time: 0.01    \n",
      "\n",
      "\n",
      "Interior-point solution summary\n",
      "  Problem status  : PRIMAL_AND_DUAL_FEASIBLE\n",
      "  Solution status : OPTIMAL\n",
      "  Primal.  obj: -6.4705877423e-01   nrm: 2e+01    Viol.  con: 9e-09    var: 0e+00    barvar: 0e+00  \n",
      "  Dual.    obj: -6.4705874931e-01   nrm: 4e+00    Viol.  con: 0e+00    var: 9e-09    barvar: 9e-09  \n",
      "status = :Optimal\n",
      "bnd = x31^2 + x32^2\n",
      "getvalue(ϵ) = [0.617695, 0.0293635]\n",
      "U3 = 1.7941171716128401x31^2 - 2.3529404775625142x31x32 + 1.2058820662556446x32^2 + 2.9510708657633566\n",
      "V3 = 1.7941176470588243x31^2 - 2.3529411764705888x31x32 + 1.2058823529411766x32^2\n"
     ]
    },
    {
     "data": {
      "text/plain": [
       "2.091013131651683e-6"
      ]
     },
     "execution_count": 86,
     "metadata": {},
     "output_type": "execute_result"
    }
   ],
   "source": [
    "# A 2D non-normal example - WORKS\n",
    "@polyvar x3[1:2]\n",
    "A = [-5.0 3.8;\n",
    "     0.2 -1.0];\n",
    "F3(x::Vector) = A*x;\n",
    "f3 = F3(x3);\n",
    "U3 = NormalSoS.normdecomp(f3,x3, MosekSolver(),0);\n",
    "\n",
    "(λ,u) = eig(A);\n",
    "(~,v) = eig(A');\n",
    "P = diagm(λ);\n",
    "M = inv(u)*v\n",
    "for i=1:2, j=1:2\n",
    "    M[i,j] = -M[i,j]/(λ[i]+λ[j]);\n",
    "end\n",
    "V3 = 0.25*dot(inv(u*M*inv(v))*x3,x3)\n",
    "\n",
    "@show(U3);    @show(V3);\n",
    "NormalSoS.checknorm(f3,U3,x3)"
   ]
  },
  {
   "cell_type": "code",
   "execution_count": 101,
   "metadata": {},
   "outputs": [
    {
     "name": "stdout",
     "output_type": "stream",
     "text": [
      "Chosen basis as:\n",
      "DynamicPolynomials.Monomial{true}[x41^2, x41x43, x42^2, x43^2, 1]\n",
      "Problem\n",
      "  Name                   :                 \n",
      "  Objective sense        : min             \n",
      "  Type                   : CONIC (conic optimization problem)\n",
      "  Constraints            : 279             \n",
      "  Cones                  : 0               \n",
      "  Scalar variables       : 8               \n",
      "  Matrix variables       : 2               \n",
      "  Integer variables      : 0               \n",
      "\n",
      "Optimizer started.\n",
      "Presolve started.\n",
      "Linear dependency checker started.\n",
      "Linear dependency checker terminated.\n",
      "Eliminator - tries                  : 0                 time                   : 0.00            \n",
      "Lin. dep.  - tries                  : 1                 time                   : 0.00            \n",
      "Lin. dep.  - number                 : 0               \n",
      "Presolve terminated. Time: 0.00    \n",
      "Problem\n",
      "  Name                   :                 \n",
      "  Objective sense        : min             \n",
      "  Type                   : CONIC (conic optimization problem)\n",
      "  Constraints            : 279             \n",
      "  Cones                  : 0               \n",
      "  Scalar variables       : 8               \n",
      "  Matrix variables       : 2               \n",
      "  Integer variables      : 0               \n",
      "\n",
      "Optimizer  - threads                : 8               \n",
      "Optimizer  - solved problem         : the primal      \n",
      "Optimizer  - Constraints            : 276\n",
      "Optimizer  - Cones                  : 1\n",
      "Optimizer  - Scalar variables       : 9                 conic                  : 6               \n",
      "Optimizer  - Semi-definite variables: 2                 scalarized             : 416             \n",
      "Factor     - setup time             : 0.00              dense det. time        : 0.00            \n",
      "Factor     - ML order time          : 0.00              GP order time          : 0.00            \n",
      "Factor     - nonzeros before factor : 3.56e+04          after factor           : 3.56e+04        \n",
      "Factor     - dense dim.             : 0                 flops                  : 6.76e+06        \n",
      "ITE PFEAS    DFEAS    GFEAS    PRSTATUS   POBJ              DOBJ              MU       TIME  \n",
      "0   1.0e+00  1.0e+00  1.0e+00  0.00e+00   0.000000000e+00   0.000000000e+00   1.0e+00  0.01  \n",
      "1   1.7e-01  1.7e-01  3.2e-01  3.01e-01   -8.115601176e-01  -7.555041467e-01  1.7e-01  0.01  \n",
      "2   4.4e-02  4.4e-02  1.1e-01  7.57e-01   -1.732955936e+00  -1.645765911e+00  4.4e-02  0.02  \n",
      "3   1.0e-02  1.0e-02  3.6e-02  -3.21e-01  -3.380688699e+00  -3.331463149e+00  1.0e-02  0.03  \n",
      "4   5.6e-04  5.6e-04  1.0e-02  9.65e-01   -3.529903172e+00  -3.528379997e+00  5.6e-04  0.03  \n",
      "5   3.9e-06  3.9e-06  1.5e-03  9.87e-01   -3.549863542e+00  -3.549868403e+00  3.9e-06  0.04  \n",
      "6   6.3e-09  6.3e-09  6.7e-05  1.00e+00   -3.549999861e+00  -3.549999870e+00  6.3e-09  0.05  \n",
      "Optimizer terminated. Time: 0.05    \n",
      "\n",
      "\n",
      "Interior-point solution summary\n",
      "  Problem status  : PRIMAL_AND_DUAL_FEASIBLE\n",
      "  Solution status : OPTIMAL\n",
      "  Primal.  obj: -3.5499998607e+00   nrm: 3e+01    Viol.  con: 2e-08    var: 0e+00    barvar: 0e+00  \n",
      "  Dual.    obj: -3.5499998704e+00   nrm: 3e+00    Viol.  con: 8e-09    var: 2e-08    barvar: 2e-08  \n",
      "status = :Optimal\n",
      "bnd = x41^2 + x42^2 + x43^2\n",
      "getvalue(ϵ) = [2.39999, 0.75, 0.400013]\n",
      "U4 = 2.4999998459675026x41^2 - 0.1999996920886303x41x43 + 0.7499999729553151x42^2 + 0.4999997328726275x43^2 + 1.7994937609643682\n",
      "V4 = 2.4999999999999996x41^2 - 0.1999999999999999x41x43 + 0.75x42^2 + 0.5x43^2\n"
     ]
    },
    {
     "data": {
      "text/plain": [
       "6.853419249130022e-7"
      ]
     },
     "execution_count": 101,
     "metadata": {},
     "output_type": "execute_result"
    }
   ],
   "source": [
    "# A 3D non-normal example\n",
    "@polyvar x4[1:3]\n",
    "A = [-5.0 0.0 0.2;\n",
    "     0.0 -1.5 0.0;\n",
    "     0.2 0.0 -1.0];\n",
    "F4(x::Vector) = A*x;\n",
    "f4 = F4(x4);\n",
    "U4 = NormalSoS.normdecomp(f4,x4, MosekSolver(),0);\n",
    "# U4 = NormalSoS.normopt2(f4,x4,monomials(V4+1),MosekSolver())\n",
    "\n",
    "(λ,u) = eig(A);\n",
    "(~,v) = eig(A');\n",
    "P = diagm(λ);\n",
    "M = inv(u)*v\n",
    "for i=1:3, j=1:3\n",
    "    M[i,j] = -M[i,j]/(λ[i]+λ[j]);\n",
    "end\n",
    "V4 = 0.25*dot(inv(u*M*inv(v))*x4,x4)\n",
    "\n",
    "@show(U4);    @show(V4);\n",
    "NormalSoS.checknorm(f4,U4,x4)"
   ]
  },
  {
   "cell_type": "code",
   "execution_count": 100,
   "metadata": {},
   "outputs": [
    {
     "name": "stdout",
     "output_type": "stream",
     "text": [
      "monomials(V4 + 1) = DynamicPolynomials.Monomial{true}[x41^2, x41x42, x41x43, x42^2, x42x43, x43^2, 1]\n",
      "monomials(x4, 0:2) = DynamicPolynomials.Monomial{true}[x41^2, x41x42, x41x43, x42^2, x42x43, x43^2, x41, x42, x43, 1]\n"
     ]
    },
    {
     "data": {
      "text/plain": [
       "10-element DynamicPolynomials.MonomialVector{true}:\n",
       " x41^2 \n",
       " x41x42\n",
       " x41x43\n",
       " x42^2 \n",
       " x42x43\n",
       " x43^2 \n",
       " x41   \n",
       " x42   \n",
       " x43   \n",
       " 1     "
      ]
     },
     "execution_count": 100,
     "metadata": {},
     "output_type": "execute_result"
    }
   ],
   "source": [
    "# @show(monomials(U4));\n",
    "@show(monomials(V4+1));\n",
    "@show(monomials(x4,0:2))"
   ]
  },
  {
   "cell_type": "code",
   "execution_count": 72,
   "metadata": {},
   "outputs": [
    {
     "name": "stderr",
     "output_type": "stream",
     "text": [
      "\u001b[1m\u001b[36mINFO: \u001b[39m\u001b[22m\u001b[36mUpdating METADATA...\n",
      "\u001b[39m\u001b[1m\u001b[36mINFO: \u001b[39m\u001b[22m\u001b[36mComputing changes...\n",
      "\u001b[39m"
     ]
    },
    {
     "ename": "LoadError",
     "evalue": "\u001b[91mresolve is unable to satisfy package requirements.\n  The problem was detected when trying to find a feasible version\n  for package DiffEqPhysics.\n  However, this only means that package DiffEqPhysics is involved in an\n  unsatisfiable or difficult dependency relation, and the root of\n  the problem may be elsewhere.\n  (you may try increasing the value of the JULIA_PKGRESOLVE_ACCURACY\n   environment variable)\n\u001b[39m",
     "output_type": "error",
     "traceback": [
      "\u001b[91mresolve is unable to satisfy package requirements.\n  The problem was detected when trying to find a feasible version\n  for package DiffEqPhysics.\n  However, this only means that package DiffEqPhysics is involved in an\n  unsatisfiable or difficult dependency relation, and the root of\n  the problem may be elsewhere.\n  (you may try increasing the value of the JULIA_PKGRESOLVE_ACCURACY\n   environment variable)\n\u001b[39m",
      "",
      "Stacktrace:",
      " [1] \u001b[1mresolve\u001b[22m\u001b[22m\u001b[1m(\u001b[22m\u001b[22m::Dict{String,Base.Pkg.Types.VersionSet}, ::Dict{String,Dict{VersionNumber,Base.Pkg.Types.Available}}\u001b[1m)\u001b[22m\u001b[22m at \u001b[1m./pkg/resolve.jl:48\u001b[22m\u001b[22m",
      " [2] \u001b[1mresolve\u001b[22m\u001b[22m\u001b[1m(\u001b[22m\u001b[22m::Dict{String,Base.Pkg.Types.VersionSet}, ::Dict{String,Dict{VersionNumber,Base.Pkg.Types.Available}}, ::Dict{String,Tuple{VersionNumber,Bool}}, ::Dict{String,Base.Pkg.Types.Fixed}, ::Dict{String,VersionNumber}, ::Set{String}\u001b[1m)\u001b[22m\u001b[22m at \u001b[1m./pkg/entry.jl:499\u001b[22m\u001b[22m",
      " [3] \u001b[1mupdate\u001b[22m\u001b[22m\u001b[1m(\u001b[22m\u001b[22m::String, ::Set{String}\u001b[1m)\u001b[22m\u001b[22m at \u001b[1m./pkg/entry.jl:461\u001b[22m\u001b[22m",
      " [4] \u001b[1m(::Base.Pkg.Dir.##4#7{Array{Any,1},Base.Pkg.Entry.#update,Tuple{String,Set{String}}})\u001b[22m\u001b[22m\u001b[1m(\u001b[22m\u001b[22m\u001b[1m)\u001b[22m\u001b[22m at \u001b[1m./pkg/dir.jl:36\u001b[22m\u001b[22m",
      " [5] \u001b[1mcd\u001b[22m\u001b[22m\u001b[1m(\u001b[22m\u001b[22m::Base.Pkg.Dir.##4#7{Array{Any,1},Base.Pkg.Entry.#update,Tuple{String,Set{String}}}, ::String\u001b[1m)\u001b[22m\u001b[22m at \u001b[1m./file.jl:70\u001b[22m\u001b[22m",
      " [6] \u001b[1m#cd#1\u001b[22m\u001b[22m\u001b[1m(\u001b[22m\u001b[22m::Array{Any,1}, ::Function, ::Function, ::String, ::Vararg{Any,N} where N\u001b[1m)\u001b[22m\u001b[22m at \u001b[1m./pkg/dir.jl:36\u001b[22m\u001b[22m",
      " [7] \u001b[1mupdate\u001b[22m\u001b[22m\u001b[1m(\u001b[22m\u001b[22m\u001b[1m)\u001b[22m\u001b[22m at \u001b[1m./pkg/pkg.jl:228\u001b[22m\u001b[22m",
      " [8] \u001b[1minclude_string\u001b[22m\u001b[22m\u001b[1m(\u001b[22m\u001b[22m::String, ::String\u001b[1m)\u001b[22m\u001b[22m at \u001b[1m./loading.jl:515\u001b[22m\u001b[22m"
     ]
    }
   ],
   "source": [
    "Pkg.update()"
   ]
  }
 ],
 "metadata": {
  "kernelspec": {
   "display_name": "Julia 0.6.0",
   "language": "julia",
   "name": "julia-0.6"
  },
  "language_info": {
   "file_extension": ".jl",
   "mimetype": "application/julia",
   "name": "julia",
   "version": "0.6.0"
  }
 },
 "nbformat": 4,
 "nbformat_minor": 2
}
